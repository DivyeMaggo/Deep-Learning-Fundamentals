{
 "cells": [
  {
   "cell_type": "markdown",
   "metadata": {},
   "source": [
    "## Perceptron Model"
   ]
  },
  {
   "cell_type": "code",
   "execution_count": 22,
   "metadata": {
    "colab": {},
    "colab_type": "code",
    "id": "Y62le--iNQ_g"
   },
   "outputs": [],
   "source": [
    "import sklearn.datasets\n",
    "from sklearn.preprocessing import StandardScaler\n",
    "import numpy as np\n",
    "import pandas as pd\n",
    "import matplotlib.pyplot as plt\n",
    "plt.style.use(\"seaborn\")"
   ]
  },
  {
   "cell_type": "markdown",
   "metadata": {
    "colab_type": "text",
    "id": "AYxDp-YaUEEC"
   },
   "source": [
    "# Loading dataset"
   ]
  },
  {
   "cell_type": "code",
   "execution_count": 23,
   "metadata": {
    "colab": {},
    "colab_type": "code",
    "id": "ClBCeOpjPvw3"
   },
   "outputs": [
    {
     "data": {
      "application/vnd.jupyter.widget-view+json": {
       "model_id": "7f6b3e98d35748079814c6582089358f",
       "version_major": 2,
       "version_minor": 0
      },
      "text/plain": [
       "Button(description='Toggle Pandas/Lux', layout=Layout(top='5px', width='140px'), style=ButtonStyle())"
      ]
     },
     "metadata": {},
     "output_type": "display_data"
    },
    {
     "data": {
      "application/vnd.jupyter.widget-view+json": {
       "model_id": "e7095e5c99704f399b5474da66f4fd85",
       "version_major": 2,
       "version_minor": 0
      },
      "text/plain": [
       "Output()"
      ]
     },
     "metadata": {},
     "output_type": "display_data"
    }
   ],
   "source": [
    "data = pd.read_csv(r\"C:\\Users\\Divye Maggo\\Downloads\\diabetes.csv\")\n",
    "data"
   ]
  },
  {
   "cell_type": "markdown",
   "metadata": {},
   "source": [
    "# Spliitng the features and target value "
   ]
  },
  {
   "cell_type": "code",
   "execution_count": 24,
   "metadata": {
    "colab": {},
    "colab_type": "code",
    "id": "vKGZCnP7P68V"
   },
   "outputs": [],
   "source": [
    "X = data.iloc[0: , :-1]\n",
    "Y = data.iloc[:,-1]\n",
    "import matplotlib.pyplot as plt\n",
    "#Performing standard scaling\n",
    "X=StandardScaler().fit_transform(X)\n",
    "X= pd.DataFrame(X)\n",
    "\n"
   ]
  },
  {
   "cell_type": "markdown",
   "metadata": {
    "colab_type": "text",
    "id": "TQOa8tuKWmEx"
   },
   "source": [
    "# Train test split"
   ]
  },
  {
   "cell_type": "code",
   "execution_count": 25,
   "metadata": {
    "colab": {},
    "colab_type": "code",
    "id": "7OOt-sSaWnVZ"
   },
   "outputs": [],
   "source": [
    "from sklearn.model_selection import train_test_split\n",
    "from sklearn.metrics import accuracy_score\n",
    "X_train, X_test, Y_train, Y_test = train_test_split(X, Y, test_size=0.2, stratify = Y, random_state=1)"
   ]
  },
  {
   "cell_type": "markdown",
   "metadata": {
    "colab_type": "text",
    "id": "OdMOCKAvs4JO"
   },
   "source": [
    "# Building Perceptron from scratch"
   ]
  },
  {
   "cell_type": "code",
   "execution_count": 26,
   "metadata": {
    "colab": {},
    "colab_type": "code",
    "id": "zpMzDt5fwtcE"
   },
   "outputs": [],
   "source": [
    "X_train = X_train.values\n",
    "X_test = X_test.values"
   ]
  },
  {
   "cell_type": "markdown",
   "metadata": {},
   "source": [
    "## Perceptron using class"
   ]
  },
  {
   "cell_type": "code",
   "execution_count": 27,
   "metadata": {
    "colab": {},
    "colab_type": "code",
    "id": "rG0tKLsUxQ9b"
   },
   "outputs": [],
   "source": [
    "class Perceptron_From_Scratch:\n",
    "  \n",
    "    #initialising weight and bias\n",
    "    def __init__ (self):\n",
    "        self.weight = None\n",
    "        self.bias = None\n",
    "    \n",
    "    #code to predict_outcome\n",
    "    def model(self, x):\n",
    "        return 1 if (np.dot(self.weight, x) >= self.bias) else 0\n",
    "    \n",
    "    #to pass data row by row\n",
    "    def predict(self, X):\n",
    "        Y = []\n",
    "        for x in X:\n",
    "            result = self.model(x)\n",
    "            Y.append(result)\n",
    "        return np.array(Y)\n",
    "    \n",
    "    #main implementation of class\n",
    "    def fitting_model(self, X, Y, epochs = 1, lr = 1):\n",
    "        \n",
    "        #initialsing the weights with '1'\n",
    "        self.weight = np.ones(X.shape[1])\n",
    "\n",
    "        #initialsing bias with 0\n",
    "        self.bias = 0\n",
    "\n",
    "\n",
    "        for i in range(epochs):\n",
    "            for x, y in zip(X, Y):\n",
    "                y_pred = self.model(x)\n",
    "                #implementing 0-1 loss function\n",
    "                if y == 1 and y_pred == 0:\n",
    "                    self.weight = self.weight + lr * x\n",
    "                    self.bias = self.bias - lr * 1\n",
    "                elif y == 0 and y_pred == 1:\n",
    "                    self.weight = self.weight - lr * x\n",
    "                    self.bias = self.bias + lr * 1\n"
   ]
  },
  {
   "cell_type": "code",
   "execution_count": 33,
   "metadata": {
    "colab": {},
    "colab_type": "code",
    "id": "rYc6A9E2wrns"
   },
   "outputs": [
    {
     "data": {
      "text/plain": [
       "0.6428571428571429"
      ]
     },
     "execution_count": 33,
     "metadata": {},
     "output_type": "execute_result"
    }
   ],
   "source": [
    "perceptron = Perceptron_From_Scratch()\n",
    "perceptron.fitting_model(X_train, Y_train, 8, 0.007)\n",
    "Y_pred_test = perceptron.predict(X_test)\n",
    "accuracy_score(Y_pred_test, Y_test)"
   ]
  },
  {
   "cell_type": "code",
   "execution_count": 29,
   "metadata": {
    "colab": {
     "base_uri": "https://localhost:8080/",
     "height": 286
    },
    "colab_type": "code",
    "id": "RV_uQBBKSweN",
    "outputId": "2275dd8e-fbff-4c68-83a3-df3974fc0255"
   },
   "outputs": [
    {
     "name": "stdout",
     "output_type": "stream",
     "text": [
      "(0.7272727272727273, 0.001)\n",
      "(0.7532467532467533, 0.002)\n",
      "(0.7727272727272727, 0.003)\n",
      "(0.5714285714285714, 0.004)\n",
      "(0.5714285714285714, 0.005)\n",
      "(0.6038961038961039, 0.006)\n",
      "(0.6428571428571429, 0.007)\n",
      "(0.5974025974025974, 0.008)\n"
     ]
    },
    {
     "data": {
      "image/png": "[encoded data removed]",
      "text/plain": [
       "<Figure size 576x396 with 1 Axes>"
      ]
     },
     "metadata": {},
     "output_type": "display_data"
    }
   ],
   "source": [
    "LearningRate_vs_Accuracy=[] #CONSTANT Epoch\n",
    "for i in np.arange(0.001,0.009,0.001):\n",
    "    perceptron.fitting_model(X_train, Y_train, 8, i)\n",
    "    Y_pred_test = perceptron.predict(X_test)\n",
    "    LearningRate_vs_Accuracy.append((accuracy_score(Y_pred_test, Y_test),i))\n",
    "for i in LearningRate_vs_Accuracy:\n",
    "    print(i)\n",
    "acc=[]\n",
    "lr=[]\n",
    "for i in LearningRate_vs_Accuracy:\n",
    "    acc.append(i[0])\n",
    "    lr.append(i[1]) \n",
    "plt.plot(lr,acc)\n",
    "plt.xlabel(\"learning rate\")\n",
    "plt.ylabel(\"accuracy\")\n",
    "plt.show()"
   ]
  },
  {
   "cell_type": "code",
   "execution_count": 30,
   "metadata": {
    "colab": {},
    "colab_type": "code",
    "id": "Efdc0SfM3Z1M"
   },
   "outputs": [
    {
     "data": {
      "image/png": "[encoded data removed]",
      "text/plain": [
       "<Figure size 576x396 with 1 Axes>"
      ]
     },
     "metadata": {},
     "output_type": "display_data"
    }
   ],
   "source": [
    "Epoch_vs_Accuracy=[] #constant learningrate\n",
    "for i in range(0,10,1):\n",
    "    perceptron.fitting_model(X_train, Y_train, i, 0.003)\n",
    "    Y_pred_test = perceptron.predict(X_test)\n",
    "    Epoch_vs_Accuracy.append((accuracy_score(Y_pred_test, Y_test),i))\n",
    "\n",
    "\n",
    "acc=[]\n",
    "epochs=[]\n",
    "for i in Epoch_vs_Accuracy:\n",
    "    acc.append(i[0])\n",
    "    epochs.append(i[1]) \n",
    "plt.plot(epochs,acc)\n",
    "plt.xlabel(\"epochs\")\n",
    "plt.ylabel(\"accuracy\")\n",
    "plt.show()\n"
   ]
  },
  {
   "cell_type": "code",
   "execution_count": 31,
   "metadata": {},
   "outputs": [
    {
     "data": {
      "text/plain": [
       "0.7922077922077922"
      ]
     },
     "execution_count": 31,
     "metadata": {},
     "output_type": "execute_result"
    }
   ],
   "source": [
    "perceptron.fitting_model(X_train, Y_train, 7, 0.003)\n",
    "Y_pred_test = perceptron.predict(X_test)\n",
    "accuracy_score(Y_pred_test, Y_test)"
   ]
  }
 ],
 "metadata": {
  "colab": {
   "collapsed_sections": [
    "fT9sC0UKb12E",
    "HsV1gX3Ge-WC",
    "nNPjMZiwvwp6"
   ],
   "name": "PerceptronModel.ipynb",
   "provenance": [],
   "version": "0.3.2"
  },
  "kernelspec": {
   "display_name": "Python 3.9.12 ('base')",
   "language": "python",
   "name": "python3"
  },
  "language_info": {
   "codemirror_mode": {
    "name": "ipython",
    "version": 3
   },
   "file_extension": ".py",
   "mimetype": "text/x-python",
   "name": "python",
   "nbconvert_exporter": "python",
   "pygments_lexer": "ipython3",
   "version": "3.9.12"
  },
  "vscode": {
   "interpreter": {
    "hash": "57d9e734b3532e6b99a3441f094f05c25c181f333e2ab9df3a5dc2c3a865faa0"
   }
  }
 },
 "nbformat": 4,
 "nbformat_minor": 1
}
